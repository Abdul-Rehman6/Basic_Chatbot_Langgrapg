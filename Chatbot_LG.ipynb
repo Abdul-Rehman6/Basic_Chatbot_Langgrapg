{
  "cells": [
    {
      "cell_type": "code",
      "execution_count": 15,
      "metadata": {},
      "outputs": [],
      "source": [
        "# --- Standard library ---\n",
        "import os\n",
        "import re\n",
        "import operator\n",
        "from typing import TypedDict, Annotated, Literal, Sequence\n",
        "\n",
        "# --- LangGraph ---\n",
        "from langgraph.graph import StateGraph, START, END, add_messages\n",
        "from langgraph.checkpoint.memory import MemorySaver\n",
        "from langgraph.prebuilt import tools_condition, ToolNode\n",
        "\n",
        "\n",
        "# --- LangChain Core ---\n",
        "from langchain_core.messages import SystemMessage, HumanMessage, AIMessage, BaseMessage\n",
        "from langchain_core.prompts import PromptTemplate\n",
        "from langchain_core.output_parsers import StrOutputParser\n",
        "from langchain_core.tools import tool\n",
        "import requests\n",
        "\n",
        "# --- LangChain Community ---\n",
        "from langchain_community.document_loaders import ArxivLoader, PyMuPDFLoader, WebBaseLoader\n",
        "from langchain_community.vectorstores import FAISS\n",
        "\n",
        "# --- LangChain OpenAI ---\n",
        "from langchain_openai import ChatOpenAI, OpenAIEmbeddings\n",
        "\n",
        "# --- LangChain Tools ---\n",
        "from langchain.tools.retriever import create_retriever_tool\n",
        "\n",
        "# --- LangChain Hub ---\n",
        "from langchain import hub\n",
        "\n",
        "# --- LangChain Text Splitters ---\n",
        "from langchain_text_splitters import RecursiveCharacterTextSplitter\n",
        "\n",
        "# --- Other third-party ---\n",
        "from pydantic import BaseModel, Field\n",
        "from dotenv import load_dotenv\n",
        "from youtube_transcript_api import YouTubeTranscriptApi, TranscriptsDisabled\n"
      ]
    },
    {
      "cell_type": "code",
      "execution_count": 16,
      "metadata": {},
      "outputs": [],
      "source": [
        "from langchain_community.tools import DuckDuckGoSearchRun\n",
        "from langchain_community.utilities import WikipediaAPIWrapper\n",
        "from langchain_community.tools import WikipediaQueryRun"
      ]
    },
    {
      "cell_type": "code",
      "execution_count": 17,
      "metadata": {},
      "outputs": [
        {
          "data": {
            "text/plain": [
              "True"
            ]
          },
          "execution_count": 17,
          "metadata": {},
          "output_type": "execute_result"
        }
      ],
      "source": [
        "load_dotenv()"
      ]
    },
    {
      "cell_type": "code",
      "execution_count": 18,
      "metadata": {
        "id": "zTOgV8bMIBaT"
      },
      "outputs": [],
      "source": [
        "llm = ChatOpenAI(model=\"gpt-4o-mini\")"
      ]
    },
    {
      "cell_type": "code",
      "execution_count": null,
      "metadata": {
        "id": "fhq4C3EeKAgj"
      },
      "outputs": [],
      "source": [
        "class ChatState(TypedDict):\n",
        "\n",
        "  #all kind of humman, ai, tool and system messages inhert from the BaseMessage,\n",
        "  # used the add_messages to appened the messages in the list its just like the operator.add but it is recomended when dealing with the messages and BaseMessages use add_messages to add the messages to list\n",
        "  messages: Annotated[list[BaseMessage], add_messages]\n"
      ]
    },
    {
      "cell_type": "code",
      "execution_count": 20,
      "metadata": {
        "id": "w-V6ofxn76Z-"
      },
      "outputs": [],
      "source": [
        "@tool\n",
        "def add_numbers(a: int, b: int) -> int:\n",
        "    \"\"\"Add two integers.\"\"\"\n",
        "    return a + b"
      ]
    },
    {
      "cell_type": "code",
      "execution_count": 21,
      "metadata": {
        "id": "qic-zNrDKUPs"
      },
      "outputs": [],
      "source": [
        "wikipidea_wraper = WikipediaAPIWrapper(top_k_results=2, doc_content_chars_max=200)\n",
        "\n",
        "wiki = WikipediaQueryRun(api_wrapper = wikipidea_wraper)"
      ]
    },
    {
      "cell_type": "code",
      "execution_count": 24,
      "metadata": {
        "id": "OO1avZVONXua"
      },
      "outputs": [],
      "source": [
        "duckduck = DuckDuckGoSearchRun()"
      ]
    },
    {
      "cell_type": "code",
      "execution_count": 25,
      "metadata": {
        "id": "SLtC3H06Po_f"
      },
      "outputs": [],
      "source": [
        "llm_withtools = llm.bind_tools([add_numbers, wiki, duckduck])"
      ]
    },
    {
      "cell_type": "code",
      "execution_count": 26,
      "metadata": {
        "id": "TENC971FPyyv"
      },
      "outputs": [],
      "source": [
        "def chat_node(state: ChatState):\n",
        "  messages = state['messages']\n",
        "\n",
        "  response = llm_withtools.invoke(messages)\n",
        "\n",
        "  return {'messages': state['messages'] + [response]}"
      ]
    },
    {
      "cell_type": "code",
      "execution_count": 27,
      "metadata": {
        "id": "7vQ1iv4g8TSk"
      },
      "outputs": [],
      "source": [
        "tool_node = ToolNode([add_numbers, wiki, duckduck])"
      ]
    },
    {
      "cell_type": "code",
      "execution_count": 28,
      "metadata": {
        "id": "r7-egdBqXmTB"
      },
      "outputs": [],
      "source": [
        "checkpointer = MemorySaver()"
      ]
    },
    {
      "cell_type": "code",
      "execution_count": 29,
      "metadata": {
        "id": "-sLzq-KvKAdF"
      },
      "outputs": [],
      "source": [
        "graph = StateGraph(ChatState)"
      ]
    },
    {
      "cell_type": "code",
      "execution_count": 30,
      "metadata": {
        "id": "m9cOKGzlLbu6"
      },
      "outputs": [],
      "source": [
        "# add nodes\n",
        "graph.add_node('chat_node', chat_node)\n",
        "graph.add_node('tool_node', tool_node)\n",
        "\n",
        "# add edges\n",
        "graph.add_edge(START, 'chat_node')\n",
        "graph.add_conditional_edges('chat_node', tools_condition, {\"tools\": \"tool_node\",\n",
        "                                                           \"__end__\": END})\n",
        "\n",
        "graph.add_edge('tool_node', 'chat_node')\n",
        "\n",
        "# compile\n",
        "\n",
        "chatbot = graph.compile(checkpointer=checkpointer)"
      ]
    },
    {
      "cell_type": "code",
      "execution_count": 31,
      "metadata": {
        "colab": {
          "base_uri": "https://localhost:8080/",
          "height": 290
        },
        "id": "471W_3OKMDnx",
        "outputId": "44165a03-8799-45c5-9ee9-6cb01ad2dee5"
      },
      "outputs": [
        {
          "data": {
            "image/png": "[encoded data removed]",
            "text/plain": [
              "<langgraph.graph.state.CompiledStateGraph object at 0x000001BE6B3E6410>"
            ]
          },
          "execution_count": 31,
          "metadata": {},
          "output_type": "execute_result"
        }
      ],
      "source": [
        "chatbot"
      ]
    },
    {
      "cell_type": "code",
      "execution_count": 32,
      "metadata": {
        "colab": {
          "base_uri": "https://localhost:8080/"
        },
        "id": "5NI7q026MFi_",
        "outputId": "f3acf661-d82a-471d-da91-20568421030e"
      },
      "outputs": [
        {
          "name": "stderr",
          "output_type": "stream",
          "text": [
            "c:\\Users\\mnai0\\Desktop\\Langgraph\\myenv\\Lib\\site-packages\\langchain_community\\utilities\\duckduckgo_search.py:63: RuntimeWarning: This package (`duckduckgo_search`) has been renamed to `ddgs`! Use `pip install ddgs` instead.\n",
            "  with DDGS() as ddgs:\n",
            "c:\\Users\\mnai0\\Desktop\\Langgraph\\myenv\\Lib\\site-packages\\langchain_community\\utilities\\duckduckgo_search.py:63: RuntimeWarning: This package (`duckduckgo_search`) has been renamed to `ddgs`! Use `pip install ddgs` instead.\n",
            "  with DDGS() as ddgs:\n",
            "c:\\Users\\mnai0\\Desktop\\Langgraph\\myenv\\Lib\\site-packages\\langchain_community\\utilities\\duckduckgo_search.py:63: RuntimeWarning: This package (`duckduckgo_search`) has been renamed to `ddgs`! Use `pip install ddgs` instead.\n",
            "  with DDGS() as ddgs:\n"
          ]
        }
      ],
      "source": [
        "thread_id = \"1\"\n",
        "config = {'configurable': {'thread_id': thread_id}}\n",
        "\n",
        "initial_state = {\n",
        "    'messages': [HumanMessage(content =  \"recent news on Ai\")]\n",
        "}\n",
        "\n",
        "response = chatbot.invoke(initial_state, config=config)\n"
      ]
    },
    {
      "cell_type": "code",
      "execution_count": 33,
      "metadata": {
        "colab": {
          "base_uri": "https://localhost:8080/"
        },
        "id": "9sZI_yomQQG9",
        "outputId": "937669ed-5db4-41b0-8d08-f88e4687908a"
      },
      "outputs": [
        {
          "name": "stdout",
          "output_type": "stream",
          "text": [
            "================================\u001b[1m Human Message \u001b[0m=================================\n",
            "\n",
            "recent news on Ai\n",
            "==================================\u001b[1m Ai Message \u001b[0m==================================\n",
            "Tool Calls:\n",
            "  duckduckgo_search (call_OhJfYCjQdgUQpnWEl8sMkRAs)\n",
            " Call ID: call_OhJfYCjQdgUQpnWEl8sMkRAs\n",
            "  Args:\n",
            "    query: recent news on AI\n",
            "=================================\u001b[1m Tool Message \u001b[0m=================================\n",
            "Name: duckduckgo_search\n",
            "\n",
            "windows 11设置不显示最近打开文件的方法： 1、在开始界面点击设置 2、点击个性化 3、点击开始 4、点击关闭显示最近打开的 ... 编辑于2022-04-10，内容仅供参考并受版权保护 gz19.ycdjkj.top 广告 3/4 操作三：在打开的Recent文件夹中，可以看到一下最近一段时间打开的文件，操作如下 4/4 操作四：点击修改日期的小箭头，可以根据时间进行查找排序，如图 Mar 23, 2023 · 打开Edge浏览器，点击右上角的【•••】。 Dec 10, 2014 · I am not sure about whether to use singular or plural verb when time serves as a subject in a sentence.Like, The past few years have/has witnessed a great change in this city. …\n",
            "==================================\u001b[1m Ai Message \u001b[0m==================================\n",
            "Tool Calls:\n",
            "  duckduckgo_search (call_Z0RpY4f6W7rZa8zXa5bEIPhW)\n",
            " Call ID: call_Z0RpY4f6W7rZa8zXa5bEIPhW\n",
            "  Args:\n",
            "    query: latest news on artificial intelligence October 2023\n",
            "=================================\u001b[1m Tool Message \u001b[0m=================================\n",
            "Name: duckduckgo_search\n",
            "\n",
            "View the latest news and breaking news today for U.S., world, weather, entertainment, politics and health at CNN.com. Read full articles, watch videos, browse thousands of titles and more on the \"World\" topic with Google News. Sky News delivers breaking news, headlines and top stories from business, politics, entertainment and more in the UK and worldwide. The most reliable media source for articles in English dedicated to Romania: latest news in business, politics and society, feature stories on business & life, with a host of free and … Get the latest top news stories and updates from NBCNews.com. Find videos and articles on the latest top US and world news stories.\n",
            "==================================\u001b[1m Ai Message \u001b[0m==================================\n",
            "Tool Calls:\n",
            "  duckduckgo_search (call_YqKBRKFMt8HUz9BG8CfTYSfZ)\n",
            " Call ID: call_YqKBRKFMt8HUz9BG8CfTYSfZ\n",
            "  Args:\n",
            "    query: AI news October 2023\n",
            "=================================\u001b[1m Tool Message \u001b[0m=================================\n",
            "Name: duckduckgo_search\n",
            "\n",
            "No good DuckDuckGo Search Result was found\n",
            "==================================\u001b[1m Ai Message \u001b[0m==================================\n",
            "\n",
            "It seems that I couldn't find specific recent news articles about artificial intelligence. However, I recommend checking reputable news sources or technology websites such as:\n",
            "\n",
            "1. **Reuters Technology** - for the latest updates in technology, including AI.\n",
            "2. **TechCrunch** - focusing on technology news, startups, and emerging AI trends.\n",
            "3. **Wired** - covering the intersection of technology, science, culture, and politics, often includes AI topics.\n",
            "4. **MIT Technology Review** - for insights into how AI is transforming industries and society.\n",
            "\n",
            "You can also search directly on these websites for the most recent articles on AI. If you need information on a specific aspect of AI, feel free to ask!\n"
          ]
        }
      ],
      "source": [
        "for message in response['messages']:\n",
        "  message.pretty_print()"
      ]
    },
    {
      "cell_type": "markdown",
      "metadata": {
        "id": "eHK0w7HnRy_7"
      },
      "source": [
        "Issue with the below code is that the chatbot cannot remember the last conversation we had wit him while we are using the messages list and appending the messages in the list but we are invoking chatbot in the loop after each invoke the state is being created again and only have the new message, previous messages have benn removed,\n",
        "**in order** to solve this we have to use ***Memory*** that is the part of langgraph, memory will store the messages in the ***RAM*** so that we can retain out messages as long as the programe is running"
      ]
    },
    {
      "cell_type": "code",
      "execution_count": null,
      "metadata": {
        "id": "xD12UaUsMp-i"
      },
      "outputs": [],
      "source": [
        "\n",
        "\n",
        "\n",
        "# while True:\n",
        "\n",
        "#   user_query = input(\"Type Here: \")\n",
        "\n",
        "#   print(user_query)\n",
        "\n",
        "#   if user_query.strip().lower() in ['exit', 'bye', 'quit']:\n",
        "#     break\n",
        "\n",
        "#   response = chatbot.invoke({\n",
        "#       'messages': [HumanMessage(content = user_query)]\n",
        "#   })\n",
        "\n",
        "#   print(f\"Ai: {response['messages'][-1].content}\")"
      ]
    },
    {
      "cell_type": "markdown",
      "metadata": {
        "id": "4QTbW4f9Zpvo"
      },
      "source": [
        "inorder to implement memory follow the steps:\n",
        "\n",
        "1.  create the checkpointer with memorysaver object\n",
        "1.  pass the checkpointer while compiling the graph\n",
        "1.  create thread id\n",
        "1.  make config file/variable\n",
        "1.  pass the config variable with invoke command\n",
        "\n"
      ]
    },
    {
      "cell_type": "markdown",
      "metadata": {
        "id": "K6nX7Cy1aPF1"
      },
      "source": [
        "thread id will tell the sys which user it is and what was his last chat with the sys, each user have unique and their own thread id and we give the thread id to sys with config variable by passing the thread id to config"
      ]
    },
    {
      "cell_type": "markdown",
      "metadata": {
        "id": "xzv9fZZ8friI"
      },
      "source": [
        "# **Chatbot with Memory( RAM used as Memory )**"
      ]
    },
    {
      "cell_type": "code",
      "execution_count": null,
      "metadata": {
        "colab": {
          "base_uri": "https://localhost:8080/"
        },
        "id": "L8tGyQEPPbDj",
        "outputId": "7a58ddee-57ab-4a9b-cfd0-816279c319bd"
      },
      "outputs": [
        {
          "name": "stdout",
          "output_type": "stream",
          "text": [
            "User: hi my name is mani\n",
            "Ai: Hi Mani! How can I assist you today?\n",
            "User: bye\n"
          ]
        }
      ],
      "source": [
        "# thread_id = \"1\"\n",
        "\n",
        "# while True:\n",
        "\n",
        "#   user_query = input(\"User: \")\n",
        "\n",
        "#   # print(user_query)\n",
        "\n",
        "#   if user_query.strip().lower() in ['exit', 'bye', 'quit']:\n",
        "#     break\n",
        "\n",
        "#   config = {'configurable': {'thread_id': thread_id}}\n",
        "\n",
        "\n",
        "#   response = chatbot.invoke({\n",
        "#       'messages': [HumanMessage(content = user_query)]\n",
        "#   }, config = config)\n",
        "\n",
        "#   print(f\"Ai: {response['messages'][-1].content}\")"
      ]
    },
    {
      "cell_type": "markdown",
      "metadata": {
        "id": "ibN5gRZwNA2W"
      },
      "source": [
        "## **Memory**"
      ]
    },
    {
      "cell_type": "code",
      "execution_count": null,
      "metadata": {
        "colab": {
          "base_uri": "https://localhost:8080/"
        },
        "id": "1DWGCQz4Yi4t",
        "outputId": "36958394-c628-4f6c-9634-f61fbe635502"
      },
      "outputs": [
        {
          "name": "stdout",
          "output_type": "stream",
          "text": [
            "StateSnapshot(values={'messages': [HumanMessage(content='hi my name is mani', additional_kwargs={}, response_metadata={}, id='2bd6fecf-25d5-4f7d-a029-070beec79abb'), AIMessage(content='Hi Mani! How can I assist you today?', additional_kwargs={'refusal': None}, response_metadata={'token_usage': {'completion_tokens': 10, 'prompt_tokens': 12, 'total_tokens': 22, 'completion_tokens_details': {'accepted_prediction_tokens': 0, 'audio_tokens': 0, 'reasoning_tokens': 0, 'rejected_prediction_tokens': 0}, 'prompt_tokens_details': {'audio_tokens': 0, 'cached_tokens': 0}}, 'model_name': 'gpt-4o-mini-2024-07-18', 'system_fingerprint': 'fp_62a23a81ef', 'id': 'chatcmpl-C42eSyzTUTS9z5bOWLQQ3clOSLVhv', 'service_tier': 'default', 'finish_reason': 'stop', 'logprobs': None}, id='run--8fa9c883-980a-4e2d-93bf-e324ced2d671-0', usage_metadata={'input_tokens': 12, 'output_tokens': 10, 'total_tokens': 22, 'input_token_details': {'audio': 0, 'cache_read': 0}, 'output_token_details': {'audio': 0, 'reasoning': 0}})]}, next=(), config={'configurable': {'thread_id': '1', 'checkpoint_ns': '', 'checkpoint_id': '1f0782d1-1cd7-6299-8001-df21531df0b6'}}, metadata={'source': 'loop', 'step': 1, 'parents': {}}, created_at='2025-08-13T10:05:41.602334+00:00', parent_config={'configurable': {'thread_id': '1', 'checkpoint_ns': '', 'checkpoint_id': '1f0782d1-07bb-6799-8000-da4ac7fc0325'}}, tasks=(), interrupts=())\n"
          ]
        }
      ],
      "source": [
        "# print(chatbot.get_state(config))"
      ]
    },
    {
      "cell_type": "markdown",
      "metadata": {
        "id": "bozGup84NDty"
      },
      "source": [
        "# **Intermediate State Save at each checkpoint(super-step)**"
      ]
    },
    {
      "cell_type": "code",
      "execution_count": null,
      "metadata": {
        "colab": {
          "base_uri": "https://localhost:8080/"
        },
        "id": "rV5szTGp99W8",
        "outputId": "5576405b-fc3f-4902-a90c-0b1f2ac6927d"
      },
      "outputs": [
        {
          "name": "stdout",
          "output_type": "stream",
          "text": [
            "[StateSnapshot(values={'messages': [HumanMessage(content='hi my name is mani', additional_kwargs={}, response_metadata={}, id='2bd6fecf-25d5-4f7d-a029-070beec79abb'), AIMessage(content='Hi Mani! How can I assist you today?', additional_kwargs={'refusal': None}, response_metadata={'token_usage': {'completion_tokens': 10, 'prompt_tokens': 12, 'total_tokens': 22, 'completion_tokens_details': {'accepted_prediction_tokens': 0, 'audio_tokens': 0, 'reasoning_tokens': 0, 'rejected_prediction_tokens': 0}, 'prompt_tokens_details': {'audio_tokens': 0, 'cached_tokens': 0}}, 'model_name': 'gpt-4o-mini-2024-07-18', 'system_fingerprint': 'fp_62a23a81ef', 'id': 'chatcmpl-C42eSyzTUTS9z5bOWLQQ3clOSLVhv', 'service_tier': 'default', 'finish_reason': 'stop', 'logprobs': None}, id='run--8fa9c883-980a-4e2d-93bf-e324ced2d671-0', usage_metadata={'input_tokens': 12, 'output_tokens': 10, 'total_tokens': 22, 'input_token_details': {'audio': 0, 'cache_read': 0}, 'output_token_details': {'audio': 0, 'reasoning': 0}})]}, next=(), config={'configurable': {'thread_id': '1', 'checkpoint_ns': '', 'checkpoint_id': '1f0782d1-1cd7-6299-8001-df21531df0b6'}}, metadata={'source': 'loop', 'step': 1, 'parents': {}}, created_at='2025-08-13T10:05:41.602334+00:00', parent_config={'configurable': {'thread_id': '1', 'checkpoint_ns': '', 'checkpoint_id': '1f0782d1-07bb-6799-8000-da4ac7fc0325'}}, tasks=(), interrupts=()), StateSnapshot(values={'messages': [HumanMessage(content='hi my name is mani', additional_kwargs={}, response_metadata={}, id='2bd6fecf-25d5-4f7d-a029-070beec79abb')]}, next=('chat_node',), config={'configurable': {'thread_id': '1', 'checkpoint_ns': '', 'checkpoint_id': '1f0782d1-07bb-6799-8000-da4ac7fc0325'}}, metadata={'source': 'loop', 'step': 0, 'parents': {}}, created_at='2025-08-13T10:05:39.389000+00:00', parent_config={'configurable': {'thread_id': '1', 'checkpoint_ns': '', 'checkpoint_id': '1f0782d1-07b8-6d05-bfff-c11fd06b4765'}}, tasks=(PregelTask(id='16d3fe42-17e5-bf5d-9604-8d23cd9de295', name='chat_node', path=('__pregel_pull', 'chat_node'), error=None, interrupts=(), state=None, result={'messages': AIMessage(content='Hi Mani! How can I assist you today?', additional_kwargs={'refusal': None}, response_metadata={'token_usage': {'completion_tokens': 10, 'prompt_tokens': 12, 'total_tokens': 22, 'completion_tokens_details': {'accepted_prediction_tokens': 0, 'audio_tokens': 0, 'reasoning_tokens': 0, 'rejected_prediction_tokens': 0}, 'prompt_tokens_details': {'audio_tokens': 0, 'cached_tokens': 0}}, 'model_name': 'gpt-4o-mini-2024-07-18', 'system_fingerprint': 'fp_62a23a81ef', 'id': 'chatcmpl-C42eSyzTUTS9z5bOWLQQ3clOSLVhv', 'service_tier': 'default', 'finish_reason': 'stop', 'logprobs': None}, id='run--8fa9c883-980a-4e2d-93bf-e324ced2d671-0', usage_metadata={'input_tokens': 12, 'output_tokens': 10, 'total_tokens': 22, 'input_token_details': {'audio': 0, 'cache_read': 0}, 'output_token_details': {'audio': 0, 'reasoning': 0}})}),), interrupts=()), StateSnapshot(values={'messages': []}, next=('__start__',), config={'configurable': {'thread_id': '1', 'checkpoint_ns': '', 'checkpoint_id': '1f0782d1-07b8-6d05-bfff-c11fd06b4765'}}, metadata={'source': 'input', 'step': -1, 'parents': {}}, created_at='2025-08-13T10:05:39.387917+00:00', parent_config=None, tasks=(PregelTask(id='d614a3a3-52ef-746d-02a8-5e8dfc3dd86a', name='__start__', path=('__pregel_pull', '__start__'), error=None, interrupts=(), state=None, result={'messages': [HumanMessage(content='hi my name is mani', additional_kwargs={}, response_metadata={}, id='2bd6fecf-25d5-4f7d-a029-070beec79abb')]}),), interrupts=())]\n"
          ]
        }
      ],
      "source": [
        "# print(list(chatbot.get_state_history(config)))  #we have to use list because it returns the generator"
      ]
    }
  ],
  "metadata": {
    "colab": {
      "provenance": []
    },
    "kernelspec": {
      "display_name": "myenv",
      "language": "python",
      "name": "python3"
    },
    "language_info": {
      "codemirror_mode": {
        "name": "ipython",
        "version": 3
      },
      "file_extension": ".py",
      "mimetype": "text/x-python",
      "name": "python",
      "nbconvert_exporter": "python",
      "pygments_lexer": "ipython3",
      "version": "3.11.5"
    }
  },
  "nbformat": 4,
  "nbformat_minor": 0
}
